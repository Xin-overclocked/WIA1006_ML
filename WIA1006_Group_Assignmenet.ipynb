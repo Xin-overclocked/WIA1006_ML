{
  "nbformat": 4,
  "nbformat_minor": 0,
  "metadata": {
    "colab": {
      "provenance": [],
      "include_colab_link": true
    },
    "kernelspec": {
      "name": "python3",
      "display_name": "Python 3"
    },
    "language_info": {
      "name": "python"
    }
  },
  "cells": [
    {
      "cell_type": "markdown",
      "metadata": {
        "id": "view-in-github",
        "colab_type": "text"
      },
      "source": [
        "<a href=\"https://colab.research.google.com/github/Xin-overclocked/WIA1006_ML/blob/main/WIA1006_Group_Assignmenet.ipynb\" target=\"_parent\"><img src=\"https://colab.research.google.com/assets/colab-badge.svg\" alt=\"Open In Colab\"/></a>"
      ]
    },
    {
      "cell_type": "markdown",
      "source": [
        "# Acquire Dataset"
      ],
      "metadata": {
        "id": "bSz8im93D6Cn"
      }
    },
    {
      "cell_type": "markdown",
      "source": [
        "# Data Preprocessing"
      ],
      "metadata": {
        "id": "_47nvDaLD-Re"
      }
    },
    {
      "cell_type": "markdown",
      "source": [
        " # Explolatory Data Analysis"
      ],
      "metadata": {
        "id": "CaqMs-dlEGV3"
      }
    },
    {
      "cell_type": "markdown",
      "source": [
        "# Feature Selection / Feature Extraction"
      ],
      "metadata": {
        "id": "QR6-AV5EFsuG"
      }
    },
    {
      "cell_type": "markdown",
      "source": [
        "# Model Selection"
      ],
      "metadata": {
        "id": "Vi439FX-Herz"
      }
    },
    {
      "cell_type": "markdown",
      "source": [
        "# Model Evaluation"
      ],
      "metadata": {
        "id": "HCuDhNAiHpN5"
      }
    },
    {
      "cell_type": "code",
      "source": [
        "print(\"hi\")"
      ],
      "metadata": {
        "id": "gNqlAyv6qZY_"
      },
      "execution_count": null,
      "outputs": []
    }
  ]
}